{
 "cells": [
  {
   "cell_type": "code",
   "execution_count": 1,
   "metadata": {},
   "outputs": [],
   "source": [
    "from models import TrainVAE, TrainAE,TrainCNN,TrainPretrained\n",
    "#################################################\n",
    "# To run each model, run each block of code.    #\n",
    "# The train(epochs) function creates a sweep,   #\n",
    "# and the run(epochs) runs with the best hyper- #\n",
    "# parameters, we got.                           #\n",
    "#                                               #\n",
    "# When training the CNN using AE or VAE, it is  #\n",
    "# required to have saved a model locally to com-#\n",
    "# press the image.                              #\n",
    "################################################# \n"
   ]
  },
  {
   "cell_type": "code",
   "execution_count": null,
   "metadata": {},
   "outputs": [],
   "source": [
    "######## AE ########\n",
    "model = TrainAE()\n",
    "model.train(3)\n",
    "model.run(10)"
   ]
  },
  {
   "cell_type": "code",
   "execution_count": null,
   "metadata": {},
   "outputs": [],
   "source": [
    "######## VAE ########\n",
    "model = TrainVAE()\n",
    "model.train(3)\n",
    "model.run(10)"
   ]
  },
  {
   "cell_type": "code",
   "execution_count": null,
   "metadata": {},
   "outputs": [],
   "source": [
    "###### CNN resize #######\n",
    "model_cnn = TrainCNN()\n",
    "model_cnn.train(5)"
   ]
  },
  {
   "cell_type": "code",
   "execution_count": null,
   "metadata": {},
   "outputs": [],
   "source": [
    "###### CNN AE #######\n",
    "image_model = TrainAE()\n",
    "image_model.load(\"Models_training_AE_/adam_0.001_0.5/model.ckpt\", \"adam\", 0.001, 0.05)\n",
    "model_cnn = TrainCNN(image_model= image_model, image_type = \"AE\")\n",
    "model_cnn.train(5)"
   ]
  },
  {
   "cell_type": "code",
   "execution_count": null,
   "metadata": {},
   "outputs": [],
   "source": [
    "###### CNN VAE decoder #######\n",
    "image_model = TrainVAE()\n",
    "image_model.load(\"Models_training_VAE_/adam_0.001_0.5_24/model.ckpt\", \"adam\", 0.001, 0.5, 24)\n",
    "model_cnn = TrainCNN(image_model= image_model, image_type = \"VAE_decode\")\n",
    "model_cnn.train(5)\n"
   ]
  },
  {
   "cell_type": "code",
   "execution_count": null,
   "metadata": {},
   "outputs": [],
   "source": [
    "###### CNN VAE encoder #######\n",
    "image_model = TrainVAE()\n",
    "image_model.load(\"Models_training_VAE_/adam_0.001_0.5_24/model.ckpt\", \"adam\", 0.001, 0.5, 24)\n",
    "model_cnn = TrainCNN(image_model= image_model, image_type = \"VAE_encode\")\n",
    "model_cnn.train(5)"
   ]
  },
  {
   "cell_type": "code",
   "execution_count": null,
   "metadata": {},
   "outputs": [],
   "source": [
    "###### CNN pretrained #######\n",
    "image_model = TrainPretrained()\n",
    "image_model.train(5)"
   ]
  },
  {
   "cell_type": "code",
   "execution_count": null,
   "metadata": {},
   "outputs": [],
   "source": [
    "###### CNN test #######\n",
    "model = TrainPretrained()\n",
    "model.load(\"Models_training_Pretrained_/sgd_0.01_0.2/model.ckpt\", \"sgd\", 0.01, 0.2)\n",
    "model.run_test()"
   ]
  }
 ],
 "metadata": {
  "kernelspec": {
   "display_name": "amlfall23",
   "language": "python",
   "name": "python3"
  },
  "language_info": {
   "codemirror_mode": {
    "name": "ipython",
    "version": 3
   },
   "file_extension": ".py",
   "mimetype": "text/x-python",
   "name": "python",
   "nbconvert_exporter": "python",
   "pygments_lexer": "ipython3",
   "version": "3.10.13"
  }
 },
 "nbformat": 4,
 "nbformat_minor": 2
}
